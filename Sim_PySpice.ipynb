{
  "nbformat": 4,
  "nbformat_minor": 0,
  "metadata": {
    "colab": {
      "private_outputs": true,
      "provenance": []
    },
    "kernelspec": {
      "name": "python3",
      "display_name": "Python 3"
    },
    "language_info": {
      "name": "python"
    }
  },
  "cells": [
    {
      "cell_type": "markdown",
      "source": [
        "# Simulación de circuitos en PySpice\n",
        "PySpice es una interfaz en Python para simular circuitos eléctricos utilizando el motor de simulación NgSpice. Es como un puente que te permite usar Python (lenguaje moderno y flexible) para controlar y analizar simulaciones de circuitos SPICE (Simulation Program with Integrated Circuit Emphasis). NgSpice es una versión moderna y de código abierto del simulador SPICE. Es muy potente y se usa ampliamente para simular circuitos analógicos y digitales mixtos, así como para realizar análisis de corriente, voltaje, transitorios, AC, DC, ruido, entre otros.\n",
        "\n",
        "## Instrucciones para su instalación\n",
        "Para su correcta instalación `deberá ejecutar cada una de las celdas de forma individual` en la sección de instalación, ya que si usa la función de ejecutar todo ocurriran problemas durante el proceso.\n",
        "Para la ejecución de cada celda, no procederá a la siguiente hasta que la celda actual que ejecutó se vea de la siguiente forma, es decir, con una palomita de color verde. ![image.png](https://miro.medium.com/v2/resize:fit:720/format:webp/1*Wj0rKPrG_Ire5XTUh_0kLA.png)\n",
        "\n",
        "## Recursos de apoyo\n",
        "*[Documentación de la versión 1.5 de PySpice](https://pyspice.fabrice-salvaire.fr/pages/documentation.html)\n",
        "\n",
        "*[Manual de usuario de Ngspice version 34](https://sourceforge.net/projects/ngspice/files/ng-spice-rework/old-releases/34/ngspice-34-manual.pdf/download)\n",
        "\n",
        "*[Documentación de la API PySpice](https://pyspice.fabrice-salvaire.fr/releases/v1.5/api/PySpice.html)\n",
        "\n",
        "> ### Que es una API\n",
        "La documentación de una API es un conjunto de instrucciones, descripciones y ejemplos que explican cómo usar esa API correctamente.\n",
        "* En el caso de PySpice, la documentación te dice:\n",
        "* Qué funciones, clases y métodos están disponibles.\n",
        "* Qué parámetros debes pasar a cada función.\n",
        "* Qué tipo de datos regresa cada función.\n",
        "* Qué errores pueden ocurrir y cómo manejarlos.\n",
        "* Ejemplos prácticos de cómo usar la API en proyectos reales.\n",
        "\n",
        "## Advertencia ![](https://img.icons8.com/?size=100&id=CTr8yPJXyPcs&format=png&color=000000)\n",
        "Si dejas de usar un script en Google Colab (por ejemplo, cierras la pestaña o dejas de interactuar durante un tiempo), la sesión se desconectará y se perderá toda la información almacenada en la memoria temporal, incluyendo variables, archivos cargados y cualquier instalación previa (como bibliotecas o configuraciones personalizadas).\n",
        "Cuando vuelvas a abrir el script o intentes continuar, tendrás que volver a ejecutar todas las celdas necesarias (Una por una) desde el principio para que el entorno quede configurado correctamente."
      ],
      "metadata": {
        "id": "NJJ5rBJzgvPK"
      }
    },
    {
      "cell_type": "markdown",
      "source": [
        "# Instalación"
      ],
      "metadata": {
        "id": "REFFogh8q6v6"
      }
    },
    {
      "cell_type": "code",
      "execution_count": null,
      "metadata": {
        "id": "sLzFjNiv2ydG"
      },
      "outputs": [],
      "source": [
        "!uname -a"
      ]
    },
    {
      "cell_type": "code",
      "source": [
        "!cat /etc/os-release"
      ],
      "metadata": {
        "id": "abVkJ-Gi20WL"
      },
      "execution_count": null,
      "outputs": []
    },
    {
      "cell_type": "code",
      "source": [
        "!sudo sed -i 's|^deb-src https://r2u.stat.illinois.edu/ubuntu jammy main|# deb-src https://r2u.stat.illinois.edu/ubuntu jammy main|' /etc/apt/sources.list.d/*.list"
      ],
      "metadata": {
        "id": "8pM1iGFE22_o"
      },
      "execution_count": null,
      "outputs": []
    },
    {
      "cell_type": "code",
      "source": [
        "!grep -r \"r2u.stat.illinois.edu\" /etc/apt/"
      ],
      "metadata": {
        "id": "QhHJDakR23S5"
      },
      "execution_count": null,
      "outputs": []
    },
    {
      "cell_type": "code",
      "source": [
        "!grep -r \"^deb-src.*r2u.stat.illinois.edu\" /etc/apt/"
      ],
      "metadata": {
        "id": "dK4XDjsd24TL"
      },
      "execution_count": null,
      "outputs": []
    },
    {
      "cell_type": "code",
      "source": [
        "!sudo sed -i '/^deb-src.*r2u.stat.illinois.edu/ s/^/#/' /etc/apt/sources.list /etc/apt/sources.list.d/*.list"
      ],
      "metadata": {
        "id": "t6_1IN_N24zI"
      },
      "execution_count": null,
      "outputs": []
    },
    {
      "cell_type": "code",
      "source": [
        "!grep -r \"r2u.stat.illinois.edu\" /etc/apt/"
      ],
      "metadata": {
        "id": "p3hSVdEW25Kj"
      },
      "execution_count": null,
      "outputs": []
    },
    {
      "cell_type": "code",
      "source": [
        "!sudo apt update"
      ],
      "metadata": {
        "id": "iGlJ9Z8L25Un"
      },
      "execution_count": null,
      "outputs": []
    },
    {
      "cell_type": "code",
      "source": [
        "!apt update && apt -q install libc6-dev"
      ],
      "metadata": {
        "id": "Ut3pDpqu25d1"
      },
      "execution_count": null,
      "outputs": []
    },
    {
      "cell_type": "code",
      "source": [
        "!wget http://ftp.fr.debian.org/debian/pool/main/n/ngspice/libngspice0_34+ds-1_amd64.deb && apt install -q ./libngspice0_34+ds-1_amd64.deb\n",
        "!wget http://ftp.fr.debian.org/debian/pool/main/n/ngspice/libngspice0-dev_34+ds-1_amd64.deb && apt install -q ./libngspice0-dev_34+ds-1_amd64.deb"
      ],
      "metadata": {
        "id": "nAXsDgMK25lv"
      },
      "execution_count": null,
      "outputs": []
    },
    {
      "cell_type": "code",
      "source": [
        "!dpkg -L libngspice0"
      ],
      "metadata": {
        "id": "ReN2Np7NwJ33"
      },
      "execution_count": null,
      "outputs": []
    },
    {
      "cell_type": "code",
      "source": [
        "!pip install git+https://github.com/FabriceSalvaire/PySpice"
      ],
      "metadata": {
        "id": "HaJBGbjk25tp"
      },
      "execution_count": null,
      "outputs": []
    },
    {
      "cell_type": "code",
      "source": [
        "!pip list"
      ],
      "metadata": {
        "id": "uWzbc5V52510"
      },
      "execution_count": null,
      "outputs": []
    },
    {
      "cell_type": "code",
      "source": [
        "!pyspice-post-installation --check-install"
      ],
      "metadata": {
        "id": "Rg5i6bzn6zYc"
      },
      "execution_count": null,
      "outputs": []
    },
    {
      "cell_type": "code",
      "source": [
        "!git clone https://github.com/FabriceSalvaire/PySpice.git"
      ],
      "metadata": {
        "id": "ITezWmaP6zp6"
      },
      "execution_count": null,
      "outputs": []
    },
    {
      "cell_type": "code",
      "source": [
        "!cp -r /content/PySpice/examples/libraries /content/"
      ],
      "metadata": {
        "id": "iH3HyhzT6zx5"
      },
      "execution_count": null,
      "outputs": []
    },
    {
      "cell_type": "code",
      "source": [
        "!pip install pint"
      ],
      "metadata": {
        "id": "xyT2JaLSkFWY"
      },
      "execution_count": null,
      "outputs": []
    },
    {
      "cell_type": "markdown",
      "source": [
        "# Ejemplo"
      ],
      "metadata": {
        "id": "ceVZ0ZQlrSeU"
      }
    },
    {
      "cell_type": "markdown",
      "source": [
        "## Declaración de librerias\n",
        "Una vez declaradas las librerias y modulos, no será necesario que las vuelvan a importar"
      ],
      "metadata": {
        "id": "YGDBJnZiwUbo"
      }
    },
    {
      "cell_type": "code",
      "source": [
        "import matplotlib.pyplot as plt\n",
        "import pint\n",
        "\n",
        "import PySpice.Logging.Logging as Logging\n",
        "logger = Logging.setup_logging()\n",
        "\n",
        "\n",
        "from PySpice.Doc.ExampleTools import find_libraries\n",
        "from PySpice.Probe.Plot import plot\n",
        "from PySpice.Spice.Library import SpiceLibrary\n",
        "from PySpice.Spice.Netlist import Circuit\n",
        "from PySpice.Unit import*"
      ],
      "metadata": {
        "id": "zCdm8eS3whEy"
      },
      "execution_count": null,
      "outputs": []
    },
    {
      "cell_type": "markdown",
      "source": [
        "## Declaración del PATH que incluye los modelos spice\n",
        "Este path incluye los modelos spice, es decir todos los parametros necesarios para simular dicho componete, los tipos de formato se muestran a continuación información que pueden encontrar en la API.\n",
        "\n",
        "[Tipos de extenciones para modelos SPICE](https://pyspice.fabrice-salvaire.fr/releases/v1.5/_modules/PySpice/Spice/Library.html#SpiceLibrary)\n",
        "\n",
        "EXTENSIONS =\n",
        "(\n",
        "* '.spice',\n",
        "* '.lib',\n",
        "* '.mod',\n",
        "* '.lib@xyce',\n",
        "* '.mod@xyce',\n",
        ")"
      ],
      "metadata": {
        "id": "EucdurEtwuUa"
      }
    },
    {
      "cell_type": "code",
      "source": [
        "spice_library = SpiceLibrary(\"/content/libraries\")"
      ],
      "metadata": {
        "id": "YQRuFyp9wmQq"
      },
      "execution_count": null,
      "outputs": []
    },
    {
      "cell_type": "markdown",
      "source": [
        "## Ejemplo 1"
      ],
      "metadata": {
        "id": "SvAxsMI2w8aa"
      }
    },
    {
      "cell_type": "markdown",
      "source": [
        "Ejemplo tomado de la sección 8.8.3 de [8.Ejemplos](https://pyspice.fabrice-salvaire.fr/releases/v1.5/examples/fundamental-laws/voltage-current-divider.html)"
      ],
      "metadata": {
        "id": "TpiRxJXL8ZAr"
      }
    },
    {
      "cell_type": "code",
      "source": [
        "circuit = Circuit('Voltage Divider')\n",
        "\n",
        "circuit.V('input', 1, circuit.gnd, 10@u_V)\n",
        "circuit.R(1, 1, 2, 2@u_kΩ)\n",
        "circuit.R(2, 2, circuit.gnd, 1@u_kΩ)\n",
        "\n",
        "simulator = circuit.simulator(temperature=25, nominal_temperature=25)\n",
        "analysis = simulator.operating_point()\n",
        "\n",
        "for node in analysis.nodes.values():\n",
        "    print('Node {}: {:5.2f} V'.format(str(node), float(node)))\n",
        "\n",
        "circuit = Circuit('Current Divider')\n",
        "\n",
        "circuit.I('input', 1, circuit.gnd, 1@u_A) # Fixme: current value\n",
        "circuit.R(1, 1, circuit.gnd, 2@u_kΩ)\n",
        "circuit.R(2, 1, circuit.gnd, 1@u_kΩ)\n",
        "\n",
        "for resistance in (circuit.R1, circuit.R2):\n",
        "    resistance.minus.add_current_probe(circuit) # to get positive value\n",
        "\n",
        "simulator = circuit.simulator(temperature=25, nominal_temperature=25)\n",
        "analysis = simulator.operating_point()\n",
        "\n",
        "# Fixme: current over resistor\n",
        "for node in analysis.branches.values():\n",
        "    print('Node {}: {:5.2f} A'.format(str(node), float(node))) # Fixme: format value + unit"
      ],
      "metadata": {
        "id": "--EkcH-b0hSY"
      },
      "execution_count": null,
      "outputs": []
    },
    {
      "cell_type": "markdown",
      "source": [
        "## Ejemplo 2"
      ],
      "metadata": {
        "id": "GGrclgHhxABg"
      }
    },
    {
      "cell_type": "markdown",
      "source": [
        "Ejemplo tomado de la sección 8.4.4 de [8.Ejemplos](https://pyspice.fabrice-salvaire.fr/releases/v1.5/examples/diode/rectification.html)"
      ],
      "metadata": {
        "id": "xvHpYEnt9EEQ"
      }
    },
    {
      "cell_type": "code",
      "source": [
        "figure1, ((ax1, ax2), (ax3, ax4)) = plt.subplots(2, 2, figsize=(20, 10))\n",
        "\n",
        "circuit = Circuit('half-wave rectification')\n",
        "circuit.include(spice_library['1N4148'])\n",
        "source = circuit.SinusoidalVoltageSource('input', 'ent', circuit.gnd, amplitude=10, frequency=50)\n",
        "circuit.X('D1', '1N4148', 'ent', 'output')\n",
        "circuit.R('load', 'output', circuit.gnd, 100@u_Ω)\n",
        "\n",
        "simulator = circuit.simulator(temperature=25, nominal_temperature=25)\n",
        "analysis = simulator.transient(step_time=source.period/200, end_time=source.period*2)\n",
        "\n",
        "ax1.set_title('Half-Wave Rectification')\n",
        "ax1.set_xlabel('Time [s]')\n",
        "ax1.set_ylabel('Voltage [V]')\n",
        "ax1.grid()\n",
        "ax1.plot(analysis['ent'])\n",
        "ax1.plot(analysis.output)\n",
        "ax1.legend(('input', 'output'), loc=(.05,.1))\n",
        "ax1.set_ylim(float(-source.amplitude*1.1), float(source.amplitude*1.1))\n",
        "\n",
        "circuit.C('1', 'output', circuit.gnd, 1@u_mF)\n",
        "\n",
        "simulator = circuit.simulator(temperature=25, nominal_temperature=25)\n",
        "analysis = simulator.transient(step_time=source.period/200, end_time=source.period*2)\n",
        "\n",
        "ax2.set_title('Half-Wave Rectification with filtering')\n",
        "ax2.set_xlabel('Time [s]')\n",
        "ax2.set_ylabel('Voltage [V]')\n",
        "ax2.grid()\n",
        "ax2.plot(analysis['ent'])\n",
        "ax2.plot(analysis.output)\n",
        "ax2.legend(('input', 'output'), loc=(.05,.1))\n",
        "ax2.set_ylim(float(-source.amplitude*1.1), float(source.amplitude*1.1))\n",
        "\n",
        "\n",
        "circuit = Circuit('half-wave rectification')\n",
        "circuit.include(spice_library['1N4148'])\n",
        "source = circuit.SinusoidalVoltageSource('input', 'ent', circuit.gnd, amplitude=10, frequency=50)\n",
        "circuit.X('D1', '1N4148', 'ent', 'output_plus')\n",
        "circuit.R('load', 'output_plus', 'output_minus', 100@u_Ω)\n",
        "circuit.X('D2', '1N4148', 'output_minus', circuit.gnd)\n",
        "circuit.X('D3', '1N4148', circuit.gnd, 'output_plus')\n",
        "circuit.X('D4', '1N4148', 'output_minus', 'ent')\n",
        "\n",
        "simulator = circuit.simulator(temperature=25, nominal_temperature=25)\n",
        "analysis = simulator.transient(step_time=source.period/200, end_time=source.period*2)\n",
        "\n",
        "ax3.set_title('Full-Wave Rectification')\n",
        "ax3.set_xlabel('Time [s]')\n",
        "ax3.set_ylabel('Voltage [V]')\n",
        "ax3.grid()\n",
        "ax3.plot(analysis['ent'])\n",
        "ax3.plot(analysis.output_plus - analysis.output_minus)\n",
        "ax3.legend(('input', 'output'), loc=(.05,.1))\n",
        "ax3.set_ylim(float(-source.amplitude*1.1), float(source.amplitude*1.1))\n",
        "\n",
        "circuit.C('1', 'output_plus', 'output_minus', 1@u_mF)\n",
        "\n",
        "simulator = circuit.simulator(temperature=25, nominal_temperature=25)\n",
        "analysis = simulator.transient(step_time=source.period/200, end_time=source.period*2)\n",
        "\n",
        "ax4.set_title('Full-Wave Rectification with filtering')\n",
        "ax4.set_xlabel('Time [s]')\n",
        "ax4.set_ylabel('Voltage [V]')\n",
        "ax4.grid()\n",
        "ax4.plot(analysis['ent'])\n",
        "ax4.plot(analysis.output_plus - analysis.output_minus)\n",
        "ax4.legend(('input', 'output'), loc=(.05,.1))\n",
        "ax4.set_ylim(float(-source.amplitude*1.1), float(source.amplitude*1.1))\n",
        "\n",
        "plt.tight_layout()\n",
        "circuit = Circuit('115/230V Rectifier')\n",
        "circuit.include(spice_library['1N4148'])\n",
        "on_115 = True # switch to select 115 or 230V\n",
        "if on_115:\n",
        "    node_230 = circuit.gnd\n",
        "    node_115 = 'node_115'\n",
        "    amplitude = 115@u_V\n",
        "else:\n",
        "    node_230 = 'node_230'\n",
        "    node_115 = circuit.gnd\n",
        "    amplitude = 230@u_V\n",
        "source = circuit.SinusoidalVoltageSource('input', 'ent', circuit.gnd, amplitude=amplitude, frequency=50) # Fixme: rms\n",
        "circuit.X('D1', '1N4148', 'ent', 'output_plus')\n",
        "circuit.X('D3', '1N4148', node_230, 'output_plus')\n",
        "circuit.X('D2', '1N4148', 'output_minus', node_230)\n",
        "circuit.X('D4', '1N4148', 'output_minus', 'ent')\n",
        "circuit.C('1', 'output_plus', node_115, 1@u_mF)\n",
        "circuit.C('2', node_115, 'output_minus', 1@u_mF)\n",
        "circuit.R('load', 'output_plus', 'output_minus', 10@u_Ω)\n",
        "\n",
        "simulator = circuit.simulator(temperature=25, nominal_temperature=25)\n",
        "if on_115:\n",
        "    simulator.initial_condition(node_115=0)\n",
        "analysis = simulator.transient(step_time=source.period/200, end_time=source.period*2)\n",
        "\n",
        "figure2, ax = plt.subplots(figsize=(20, 10))\n",
        "ax.set_title('115/230V Rectifier')\n",
        "ax.set_xlabel('Time [s]')\n",
        "ax.set_ylabel('Voltage [V]')\n",
        "ax.grid()\n",
        "ax.plot(analysis['ent'])\n",
        "ax.plot(analysis.output_plus - analysis.output_minus)\n",
        "ax.legend(('input', 'output'), loc=(.05,.1))\n",
        "ax.set_ylim(float(-source.amplitude*1.1), float(source.amplitude*1.1))\n",
        "\n",
        "plt.tight_layout()"
      ],
      "metadata": {
        "id": "VlDvhkJd6z6s"
      },
      "execution_count": null,
      "outputs": []
    }
  ]
}